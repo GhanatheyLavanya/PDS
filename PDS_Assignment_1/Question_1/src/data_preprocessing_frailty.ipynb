{
 "cells": [
  {
   "cell_type": "code",
   "execution_count": 12,
   "id": "b0d75966",
   "metadata": {},
   "outputs": [
    {
     "name": "stdout",
     "output_type": "stream",
     "text": [
      "          Height      Weight        Age   Grip strength\n",
      "count  10.000000   10.000000  10.000000       10.000000\n",
      "mean   68.600000  131.900000  32.500000       26.000000\n",
      "std     1.670662   14.231811  12.860361        4.521553\n",
      "min    65.800000  112.000000  17.000000       19.000000\n",
      "25%    67.825000  120.750000  22.250000       22.500000\n",
      "50%    68.450000  136.000000  29.500000       27.000000\n",
      "75%    69.700000  141.750000  43.500000       29.750000\n",
      "max    71.500000  153.000000  51.000000       31.000000\n"
     ]
    }
   ],
   "source": [
    "#Reproducible step-2: Preprocessing or cleaning the raw data\n",
    "#importing the pandas library\n",
    "import pandas as pd\n",
    "\n",
    "# Read the CSV file from the data_raw directory and the dataset is loaded into the data frame\n",
    "df_frality = pd.read_csv('../data_raw/raw_frailty_data.csv')\n",
    "\n",
    "#getting the summary \n",
    "summary=df_frality.describe()\n",
    "print(summary)\n",
    "\n",
    "# The file path where the summary data is saved is described \n",
    "summary_results = '../results/results.txt'  \n",
    "\n",
    "# Save the summary data to a text file\n",
    "with open(summary_results, 'w') as file:\n",
    "    file.write(summary.to_string())\n",
    "\n",
    "\n"
   ]
  },
  {
   "cell_type": "code",
   "execution_count": 13,
   "id": "b1856cbd",
   "metadata": {},
   "outputs": [],
   "source": [
    "# Remove leading or trailing spaces from object columns using str.strip() function.\n",
    "df_frality_obj = df_frality.select_dtypes(['object'])\n",
    "df_frality[df_frality_obj.columns] = df_frality_obj.apply(lambda x: x.str.strip())\n",
    "df_frality.columns = df_frality.columns.str.strip()\n",
    "\n",
    "# Renamimg the columns with the meaningful names\n",
    "df_frality.rename(columns={'Height': 'height(in)',\n",
    "                   'Weight': 'weight(lb)',\n",
    "                   'Age': 'age(years)',\n",
    "                   'Grip strength': 'grip_strength(kg)',\n",
    "                   'Frailty': 'frailty'}, inplace=True)\n",
    "\n",
    "# Map 'Y' to 1 and 'N' to 0 in the 'frailty' column. Converting the categorical values into numerical to perform data analysis.\n",
    "df_frality['frailty'] = df_frality['frailty'].map({'Y': 1, 'N': 0})\n",
    "\n",
    "# Save the preprocessed data to the data_clean directory and index=false insures index column is excluded.\n",
    "df_frality.to_csv('../data_clean/clean_frailty_data.csv', index=False)\n"
   ]
  },
  {
   "cell_type": "code",
   "execution_count": null,
   "id": "cd72351c",
   "metadata": {},
   "outputs": [],
   "source": []
  }
 ],
 "metadata": {
  "kernelspec": {
   "display_name": "Python 3 (ipykernel)",
   "language": "python",
   "name": "python3"
  },
  "language_info": {
   "codemirror_mode": {
    "name": "ipython",
    "version": 3
   },
   "file_extension": ".py",
   "mimetype": "text/x-python",
   "name": "python",
   "nbconvert_exporter": "python",
   "pygments_lexer": "ipython3",
   "version": "3.10.9"
  }
 },
 "nbformat": 4,
 "nbformat_minor": 5
}
