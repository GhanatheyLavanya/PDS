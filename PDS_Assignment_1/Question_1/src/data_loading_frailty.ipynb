{
 "cells": [
  {
   "cell_type": "code",
   "execution_count": 1,
   "id": "a3f7a115",
   "metadata": {},
   "outputs": [
    {
     "name": "stdout",
     "output_type": "stream",
     "text": [
      "          Height      Weight        Age   Grip strength\n",
      "count  10.000000   10.000000  10.000000       10.000000\n",
      "mean   68.600000  131.900000  32.500000       26.000000\n",
      "std     1.670662   14.231811  12.860361        4.521553\n",
      "min    65.800000  112.000000  17.000000       19.000000\n",
      "25%    67.825000  120.750000  22.250000       22.500000\n",
      "50%    68.450000  136.000000  29.500000       27.000000\n",
      "75%    69.700000  141.750000  43.500000       29.750000\n",
      "max    71.500000  153.000000  51.000000       31.000000\n"
     ]
    }
   ],
   "source": [
    "#Reproducible step-1: Loading the dataset and understanding the variables and its values\n",
    "#importing the pandas library\n",
    "import pandas as pd\n",
    "\n",
    "# Read the CSV file from the data_raw directory and the dataset is loaded into the data frame\n",
    "df_frality = pd.read_csv('../data_raw/raw_frailty_data.csv')\n",
    "\n",
    "#getting the summary \n",
    "summary=df_frality.describe()\n",
    "print(summary)"
   ]
  },
  {
   "cell_type": "code",
   "execution_count": null,
   "id": "e62d966c",
   "metadata": {},
   "outputs": [],
   "source": []
  }
 ],
 "metadata": {
  "kernelspec": {
   "display_name": "Python 3 (ipykernel)",
   "language": "python",
   "name": "python3"
  },
  "language_info": {
   "codemirror_mode": {
    "name": "ipython",
    "version": 3
   },
   "file_extension": ".py",
   "mimetype": "text/x-python",
   "name": "python",
   "nbconvert_exporter": "python",
   "pygments_lexer": "ipython3",
   "version": "3.10.9"
  }
 },
 "nbformat": 4,
 "nbformat_minor": 5
}
